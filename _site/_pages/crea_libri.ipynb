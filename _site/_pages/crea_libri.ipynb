{
 "cells": [
  {
   "cell_type": "code",
   "execution_count": 1,
   "id": "9201870c-64db-4d5b-a3b7-8332e0072cbc",
   "metadata": {},
   "outputs": [],
   "source": [
    "import os"
   ]
  },
  {
   "cell_type": "code",
   "execution_count": 8,
   "id": "fa1f926a-f979-46e7-934a-136f55d5c13b",
   "metadata": {},
   "outputs": [],
   "source": [
    "calibre_path = '/run/media/pietro/data/Biblioteca di calibre/'"
   ]
  },
  {
   "cell_type": "code",
   "execution_count": 5,
   "id": "d615fc87-1a43-4247-8bb1-e646db0d2d47",
   "metadata": {},
   "outputs": [],
   "source": [
    "blog_path  = '/home/pietro/Desktop/blog/minimal-mistakes/_pages'"
   ]
  },
  {
   "cell_type": "code",
   "execution_count": 23,
   "id": "a9acfc3a-232c-406a-abf6-22fbe90b98d8",
   "metadata": {},
   "outputs": [
    {
     "data": {
      "text/plain": [
       "'Masha Gessen'"
      ]
     },
     "execution_count": 23,
     "metadata": {},
     "output_type": "execute_result"
    }
   ],
   "source": [
    "authors = []\n",
    "for filename in os.listdir(calibre_path):\n",
    "    if os.path.isdir(os.path.join(calibre_path,filename)):\n",
    "        authors.append(filename)\n",
    "authors[0]"
   ]
  },
  {
   "cell_type": "code",
   "execution_count": 24,
   "id": "a66d0353-b1b5-4681-8252-cfbf53e37ac2",
   "metadata": {},
   "outputs": [
    {
     "name": "stdout",
     "output_type": "stream",
     "text": [
      "['Perfect Rigor (48)']\n",
      "[\"Enrico Fermi. L'ultimo uomo che sapeva tutto (127)\"]\n",
      "['Deep work_ Concentrati al massimo (Italian Edition) (131)', 'Minimalismo digitale_ Rimettere a fuoco la propria vita in un mondo pieno di distrazioni (Itali (129)']\n",
      "['Educazione siberiana (111)']\n",
      "[\"Quiet_ The Power of Introverts in a World That Can't Stop Talking (130)\"]\n",
      "['Shantaram_ A Novel (104)']\n",
      "['Memorie di una geisha (44)']\n",
      "['Delitto e castigo (Einaudi)_ Romanzo in sei parti e un epilogo (Einaudi tascabili. Classici) (It (33)']\n",
      "['Il signore delle mosche (85)']\n",
      "[\"L'Odore Dei Soldi (136)\"]\n",
      "['Uomini e topi (86)']\n",
      "['Perfectly Reasonable Deviations From the Beaten Track (32)', '__Sta scherzando Mr. Feynman!__ Vita e avventure di uno scienziato curioso (77)']\n",
      "['Il Maestro e Margherita (37)']\n",
      "[\"Il Dilemma Dell'onnivoro (106)\", 'Come cambiare la tua mente (108)']\n",
      "[\"L'universo elegante (47)\"]\n",
      "['Paura e disgusto a Las Vegas (120)']\n",
      "['Einstein (90)']\n",
      "['Why Greatness Cannot Be Planned (135)']\n",
      "['Cecita (143)']\n",
      "['Pensieri lenti e veloci (99)']\n",
      "['Pet Sematary (25)', 'On writing (2)']\n",
      "[\"La Citta del Sole e una delle piu celebri utopie di tutti i tempi e certamente l'opera piu famo (153)\"]\n",
      "['Guida rapida (154)']\n",
      "['La valle oscura (110)']\n",
      "['Love All the People (New Edition) (113)']\n",
      "[\"L'assassinio del Commendatore. Libro primo (96)\", \"L'assassinio del Commendatore. Libro secondo (97)\"]\n",
      "['Shogun (126)']\n",
      "[\"L'anello di Re Salomone (103)\"]\n",
      "['Perec - Le Cose. Una storia degli anni Sessanta (149)']\n",
      "['Early Retirement Extreme_ A philosophical and practical guide to financial independence (141)']\n",
      "['Wool (140)', 'Shift (146)']\n",
      "['Colori Proibiti (152)', 'Confessioni di una maschera (150)']\n",
      "['Rabbia (62)', 'Fight club (109)', 'La scimmia pensa, la scimmia fa (117)', 'Soffocare (116)']\n",
      "['Reading Like a Writer (132)']\n",
      "['Salvare il fuoco (151)']\n",
      "['Steve Jobs (53)']\n",
      "['Make It Stick (145)']\n",
      "['Credere disobbedire combattere (17)']\n",
      "['Cattedrale (115)']\n",
      "['Tools of Titans (133)']\n",
      "['La sottile arte di fare quello che c___o ti pare (137)']\n",
      "['Giocati dal caso. Il ruolo della fortuna nella finanza e nella vita (138)']\n",
      "['Sapiens. Da animali a dei (75)', '21 lezioni per il XXI secolo (76)']\n",
      "['Il Piu Grande Spettacolo Della Terra. Perche Darwin Aveva Ragione (7)']\n",
      "['La scimmia nuda (123)']\n",
      "['Cuore di tenebra (84)']\n",
      "['Mr Gwyn (51)']\n",
      "['My Clippings (114)']\n",
      "['The Distracted Mind (67)']\n",
      "['Piccole abitudini per grandi cambiamenti_ Trasforma la tua vita un piccolo passo per volta (139)']\n",
      "[\"Spillover. L'evoluzione delle epidemie (93)\", \"L'albero intricato (102)\"]\n",
      "['Ma gli andoidi sognano pecore elettriche_ (144)']\n",
      "[\"L'uccello che girava le Viti del Mondo (24)\", '1Q84 (119)', \"L'arte di correre (4)\", 'Kafka sulla spiaggia (98)', 'Tokyo Blues (27)']\n",
      "['La realta non e come ci appare. La struttura elementare delle cose (2014) (121)']\n",
      "['Your Money or Your Life (142)']\n",
      "['QED - La strana teoria della luce e della materia (36)']\n",
      "[\"L'eta della ragione (63)\"]\n",
      "['Flatlandia (15)']\n",
      "['Software libero pensiero libero (148)']\n",
      "['The Fifth Science (8)', 'The Prince of Milk (9)']\n",
      "['La mia vita al limite (28)', 'La montagna nuda (23)']\n",
      "['Il signore degli anelli (38)']\n",
      "['Dust_ La trilogia Silo #3 (147)']\n"
     ]
    }
   ],
   "source": [
    "for author in authors:\n",
    "    "
   ]
  },
  {
   "cell_type": "code",
   "execution_count": 14,
   "id": "feadf41a-18ef-4df7-b175-01764f125896",
   "metadata": {},
   "outputs": [],
   "source": [
    "file = open(\"prova.md\", \"w\")\n",
    "L = [\"--- \\n title: \\\"Visual Library\\\" \\n sitemap: true \\n permalink: /books/ \\n author_profile: true \\n last_modified_at: 2022-04-26 \\n--- \\n <figure class=\\\"third\\\">\"]\n",
    "file.writelines(L)\n"
   ]
  },
  {
   "cell_type": "code",
   "execution_count": null,
   "id": "1f554e8f-7a03-4841-b82f-c41cc1a91595",
   "metadata": {},
   "outputs": [],
   "source": [
    "for book in books:\n",
    "    file.writelines"
   ]
  },
  {
   "cell_type": "code",
   "execution_count": null,
   "id": "567b564a-2769-4273-a88a-dd4d3f5284fc",
   "metadata": {},
   "outputs": [],
   "source": [
    "import pathlib\n",
    "\n",
    "list(pathlib.Path('your_directory').glob('*.txt'))\n"
   ]
  },
  {
   "cell_type": "code",
   "execution_count": null,
   "id": "29f42d91-78d6-4c1a-a6fc-d6a01cd4c032",
   "metadata": {},
   "outputs": [],
   "source": [
    "file.close()"
   ]
  },
  {
   "cell_type": "markdown",
   "id": "68e84a99-0817-44d5-ad8e-118219d8b84c",
   "metadata": {},
   "source": [
    "# versione semplificata"
   ]
  },
  {
   "cell_type": "code",
   "execution_count": 46,
   "id": "b46be1ce-31ce-41bf-acce-13926ab8e546",
   "metadata": {},
   "outputs": [
    {
     "data": {
      "text/plain": [
       "'2022-04-27'"
      ]
     },
     "execution_count": 46,
     "metadata": {},
     "output_type": "execute_result"
    }
   ],
   "source": [
    "from datetime import datetime\n",
    "import os\n",
    "import random\n",
    "today = datetime.today().strftime('%Y-%m-%d')\n",
    "today"
   ]
  },
  {
   "cell_type": "code",
   "execution_count": 47,
   "id": "2dfb1a03-f4e4-4fcd-b7c4-4669366ff1ca",
   "metadata": {},
   "outputs": [],
   "source": [
    "img_path = '/home/pietro/Desktop/blog/minimal-mistakes/assets/img/books'"
   ]
  },
  {
   "cell_type": "code",
   "execution_count": 48,
   "id": "51e61b2d-bd2f-4c59-8832-39b2d0827d89",
   "metadata": {},
   "outputs": [
    {
     "data": {
      "text/plain": [
       "['selfish_gene.jpg',\n",
       " 'geisha.jpg',\n",
       " 'thinking_fast.jpg',\n",
       " 'ontheroad.jpg',\n",
       " 'shogun.jpg',\n",
       " 'tokio_blues.jpg',\n",
       " 'sta_scherzando_mr_feynman.jpg',\n",
       " 'rovelli.jpg',\n",
       " 'albero_intricato.jpg',\n",
       " 'rabbia.jpg',\n",
       " 'confessioni_maschera.jpg',\n",
       " 'perfect_rigor.jpg',\n",
       " 'shantaram.jpg',\n",
       " 'spillover.jpg',\n",
       " 'fermi.jpg']"
      ]
     },
     "execution_count": 48,
     "metadata": {},
     "output_type": "execute_result"
    }
   ],
   "source": [
    "books = os.listdir(img_path)\n",
    "random.shuffle(books)\n",
    "books"
   ]
  },
  {
   "cell_type": "code",
   "execution_count": 49,
   "id": "b61ba819-502f-4566-aba0-a53a7b29bb6e",
   "metadata": {},
   "outputs": [],
   "source": [
    "file = open(\"books.md\", \"w\")\n",
    "L = [\"---\\ntitle: \\\"Visual Library\\\" \\nsitemap: true \\npermalink: /books/ \\nauthor_profile: true \\nlast_modified_at: \" + today + \" \\n--- \\n<figure class=\\\"third \\\">\\n\"]\n",
    "file.writelines(L)"
   ]
  },
  {
   "cell_type": "code",
   "execution_count": 50,
   "id": "ebf1e4ef-f53a-4ec2-87bb-9e4dd4aa5e17",
   "metadata": {},
   "outputs": [],
   "source": [
    "for book in books:\n",
    "    l = [\"  <a href=\\\"../assets/img/books/\" + book + \" \\\"> <img src=\\\"../assets/img/books/\" + book + \"\\\"></a>  \"]\n",
    "    file.writelines(l)\n",
    "    file.writelines('\\n')"
   ]
  },
  {
   "cell_type": "code",
   "execution_count": 51,
   "id": "fc139aa4-e55d-46cb-8996-131c651fd7c8",
   "metadata": {},
   "outputs": [],
   "source": [
    "file.writelines(\"</figure>\")\n",
    "file.close()"
   ]
  },
  {
   "cell_type": "code",
   "execution_count": null,
   "id": "1d5ed1e8-1316-4bb5-aa37-dd8af935963d",
   "metadata": {},
   "outputs": [],
   "source": []
  }
 ],
 "metadata": {
  "kernelspec": {
   "display_name": "Python 3 (ipykernel)",
   "language": "python",
   "name": "python3"
  },
  "language_info": {
   "codemirror_mode": {
    "name": "ipython",
    "version": 3
   },
   "file_extension": ".py",
   "mimetype": "text/x-python",
   "name": "python",
   "nbconvert_exporter": "python",
   "pygments_lexer": "ipython3",
   "version": "3.10.4"
  }
 },
 "nbformat": 4,
 "nbformat_minor": 5
}
